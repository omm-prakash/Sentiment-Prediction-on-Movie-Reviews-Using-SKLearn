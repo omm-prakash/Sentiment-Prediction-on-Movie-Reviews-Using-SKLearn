{
 "cells": [
  {
   "cell_type": "markdown",
   "id": "9ca114b8",
   "metadata": {},
   "source": [
    "## Libraries\n",
    "Python libraries and their common use cases:\n",
    "\n",
    "1. **Scikit-learn**: It is a popular machine learning library used for tasks such as classification, regression, clustering, and dimensionality reduction. It provides a wide range of algorithms and tools for data preprocessing, model selection, and evaluation.\n",
    "\n",
    "2. **XGBoost**: XGBoost is an optimized gradient boosting library widely used for supervised learning tasks. It provides efficient implementations of gradient boosting algorithms, which are powerful for regression, classification, and ranking problems.\n",
    "\n",
    "3. **Imblearn**: Imbalanced-learn, also known as imblearn, is a library that focuses on handling imbalanced datasets. It provides various techniques for resampling data to address the issue of imbalanced classes, including over-sampling, under-sampling, and combination methods.\n",
    "\n",
    "4. **NumPy**: NumPy is a fundamental library for scientific computing in Python. It provides support for large, multi-dimensional arrays and matrices, along with a collection of mathematical functions to operate on these arrays efficiently. It is the foundation for many other scientific computing libraries.\n",
    "\n",
    "5. **Pandas**: Pandas is a powerful library for data manipulation and analysis. It provides data structures (such as DataFrames) to efficiently handle and analyze structured data, along with functions for data cleaning, transformation, and exploration.\n",
    "\n",
    "6. **SciPy**: SciPy is a library that builds on top of NumPy and provides additional numerical and scientific computing capabilities. It includes modules for optimization, linear algebra, integration, interpolation, signal and image processing, and more.\n",
    "\n",
    "7. **Pickle**: Pickle is a Python module used for object serialization. It allows you to convert Python objects into a byte stream, which can be saved to a file or transmitted over a network. Pickle is commonly used for saving trained machine learning models and loading them later for prediction.\n",
    "\n",
    "8. **Seaborn**: Seaborn is a data visualization library based on Matplotlib. It provides a high-level interface for creating attractive and informative statistical graphics. Seaborn simplifies the creation of complex visualizations such as scatter plots, bar plots, heatmaps, and more.\n",
    "\n",
    "9. **Matplotlib**: Matplotlib is a widely used plotting library in Python. It provides a flexible and comprehensive set of functions for creating a variety of plots, including line plots, scatter plots, histograms, bar plots, and 3D visualizations. Matplotlib serves as the foundation for many other plotting libraries.\n",
    "\n",
    "10. **LightGBM**: LightGBM is a gradient boosting framework that is highly efficient and optimized for speed and memory usage. It is particularly useful for large-scale machine learning tasks and is commonly used for classification and regression problems.\n",
    "\n",
    "These libraries are extensively used in various data science, machine learning, and scientific computing projects to perform a wide range of tasks efficiently and effectively."
   ]
  },
  {
   "cell_type": "markdown",
   "id": "68674155",
   "metadata": {},
   "source": [
    "## Columns From `movies`\n",
    "\n",
    "- [x] movieid\n",
    "- [ ] title\n",
    "- [x] audienceScore\n",
    "- [x] rating\n",
    "- [x] ratingContents\n",
    "- [ ] releaseDateTheaters\n",
    "- [ ] releaseDateStreaming\n",
    "- [x] runtimeMinutes\n",
    "- [x] genre\n",
    "- [ ] originalLanguage\n",
    "- [x] director\n",
    "- [ ] boxOffice\n",
    "- [ ] distributor\n",
    "- [ ] soundType"
   ]
  },
  {
   "cell_type": "markdown",
   "id": "88c5e2d1",
   "metadata": {},
   "source": [
    "## Movie Rating\n",
    "The ratings you mentioned are commonly used in the entertainment industry to provide guidance about the appropriateness of a particular film or TV show for different audiences. Here's what each rating generally means:\n",
    "\n",
    "1. **TV-14**: This rating is used for television shows and indicates that the program may contain material that is suitable for viewers aged 14 and older. It may include intense violence, moderate profanity, sexual content, and/or suggestive dialogue.\n",
    "\n",
    "2. **PG**: The PG rating stands for \"Parental Guidance.\" This rating suggests that some material in the film may not be suitable for young children, and parental guidance is advised. It may include mild violence, brief nudity, and/or some mild language.\n",
    "\n",
    "3. **PG-13**: The PG-13 rating means \"Parents Strongly Cautioned.\" It suggests that some material in the film may be inappropriate for children under 13 years of age. Parents are urged to be cautious when allowing their children to watch such content, as it may include moderate violence, some sexual references, stronger language, and/or brief nudity.\n",
    "\n",
    "4. **R**: The R rating is an indication that the film is restricted to viewers who are 17 years old or older, or require parental guidance. It may contain strong violence, explicit sexual content, pervasive language, and/or drug abuse.\n",
    "\n",
    "Please note that these ratings can vary slightly depending on the country or region, as different rating systems may be in place. Additionally, it's important to consider individual sensitivities and preferences when deciding which content is suitable for yourself or others."
   ]
  },
  {
   "cell_type": "markdown",
   "id": "cd75ef10",
   "metadata": {},
   "source": [
    "## directors\n"
   ]
  },
  {
   "cell_type": "markdown",
   "id": "b218f1a9",
   "metadata": {},
   "source": [
    "It looks like `Joseph Brooks` & `Augusta Daniel` are most frequent popular directors, having outlier number of movies, i.e., 208 & 100 respectivly. \n",
    "\n",
    "Out of **13111** directors\n",
    "1. Only **15%** of the directors(i.e, 1983) have movies more than **two**. \n",
    "2. Only **3.5%** of directors(i.e, 407) have movies more than **six**.\n",
    "3. Only **0.78%** of directors(i.e, 102) have movies more than **twelve**.\n",
    "4. Only **0.19%** of directors(i.e, 25) have movies more than **eighteen**.\n",
    "\n",
    "From the above obervations directors can be encoded as `<2`, `2< & <6`, `6< & <12`, `12< & <18`, and other directors as single chategory. "
   ]
  },
  {
   "cell_type": "code",
   "execution_count": null,
   "id": "6acc13d3",
   "metadata": {},
   "outputs": [],
   "source": []
  },
  {
   "cell_type": "code",
   "execution_count": null,
   "id": "6cc40510",
   "metadata": {},
   "outputs": [],
   "source": []
  },
  {
   "cell_type": "code",
   "execution_count": null,
   "id": "e7a59381",
   "metadata": {},
   "outputs": [],
   "source": []
  },
  {
   "cell_type": "code",
   "execution_count": null,
   "id": "b6e2dc2b",
   "metadata": {},
   "outputs": [],
   "source": []
  },
  {
   "cell_type": "code",
   "execution_count": null,
   "id": "a4a00de2",
   "metadata": {},
   "outputs": [],
   "source": []
  },
  {
   "cell_type": "code",
   "execution_count": null,
   "id": "8974734b",
   "metadata": {},
   "outputs": [],
   "source": []
  },
  {
   "cell_type": "code",
   "execution_count": null,
   "id": "473fdefe",
   "metadata": {},
   "outputs": [],
   "source": []
  }
 ],
 "metadata": {
  "kernelspec": {
   "display_name": "Python 3 (ipykernel)",
   "language": "python",
   "name": "python3"
  },
  "language_info": {
   "codemirror_mode": {
    "name": "ipython",
    "version": 3
   },
   "file_extension": ".py",
   "mimetype": "text/x-python",
   "name": "python",
   "nbconvert_exporter": "python",
   "pygments_lexer": "ipython3",
   "version": "3.11.3"
  }
 },
 "nbformat": 4,
 "nbformat_minor": 5
}
